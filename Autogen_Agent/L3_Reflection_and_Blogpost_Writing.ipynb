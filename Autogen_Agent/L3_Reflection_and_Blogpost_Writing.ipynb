{
 "cells": [
  {
   "cell_type": "markdown",
   "id": "fc3024e2",
   "metadata": {},
   "source": [
    "# Lesson 3: Reflection and Blogpost Writing"
   ]
  },
  {
   "cell_type": "markdown",
   "id": "3b0cc42f",
   "metadata": {},
   "source": [
    "## Setup"
   ]
  },
  {
   "cell_type": "code",
   "execution_count": 1,
   "id": "96d39be0-eaf3-456d-8613-ba21099ed36b",
   "metadata": {
    "height": 29
   },
   "outputs": [],
   "source": [
    "llm_config = {\"model\": \"gpt-3.5-turbo\"}"
   ]
  },
  {
   "cell_type": "markdown",
   "id": "0969e6bb",
   "metadata": {},
   "source": [
    "## The task!"
   ]
  },
  {
   "cell_type": "code",
   "execution_count": 2,
   "id": "e8074032-3690-4de9-ad08-ea8323cb441b",
   "metadata": {
    "height": 114
   },
   "outputs": [],
   "source": [
    "task = '''\n",
    "        Write a concise but engaging blogpost about\n",
    "       DeepLearning.AI. Make sure the blogpost is\n",
    "       within 100 words.\n",
    "       '''\n"
   ]
  },
  {
   "cell_type": "markdown",
   "id": "1987f023",
   "metadata": {},
   "source": [
    "## Create a writer agent"
   ]
  },
  {
   "cell_type": "code",
   "execution_count": 3,
   "id": "fe0f0a47-a9fe-43a0-b7b1-79922e4c4ac8",
   "metadata": {
    "height": 197
   },
   "outputs": [],
   "source": [
    "import autogen\n",
    "\n",
    "writer = autogen.AssistantAgent(\n",
    "    name=\"Writer\",\n",
    "    system_message=\"You are a writer. You write engaging and concise \" \n",
    "        \"blogpost (with title) on given topics. You must polish your \"\n",
    "        \"writing based on the feedback you receive and give a refined \"\n",
    "        \"version. Only return your final work without additional comments.\",\n",
    "    llm_config=llm_config,\n",
    ")"
   ]
  },
  {
   "cell_type": "code",
   "execution_count": 4,
   "id": "7c7b4d8d-40f7-4a05-8958-25d20054de3a",
   "metadata": {
    "height": 44
   },
   "outputs": [],
   "source": [
    "reply = writer.generate_reply(messages=[{\"content\": task, \"role\": \"user\"}])"
   ]
  },
  {
   "cell_type": "code",
   "execution_count": 5,
   "id": "c501c97d-e338-4f36-a384-6ec45983cf77",
   "metadata": {
    "height": 29
   },
   "outputs": [
    {
     "name": "stdout",
     "output_type": "stream",
     "text": [
      "Title: \"Unleashing the Power of Deep Learning with DeepLearning.AI\"\n",
      "\n",
      "Blogpost:\n",
      "Discover the path to mastering deep learning with DeepLearning.AI, a leading online platform founded by AI expert Andrew Ng. Whether you're a beginner or an experienced professional, DeepLearning.AI offers top-tier courses to elevate your skills in artificial intelligence and deep learning. From neural networks to natural language processing, the platform provides comprehensive learning opportunities to guide you through the complexities of AI technology. Join a global community of learners and enhance your expertise with practical knowledge and hands-on experience. Embark on your journey to unlock the full potential of deep learning with DeepLearning.AI.\n"
     ]
    }
   ],
   "source": [
    "print(reply)"
   ]
  },
  {
   "cell_type": "markdown",
   "id": "49658114",
   "metadata": {},
   "source": [
    "## Adding reflection \n",
    "\n",
    "Create a critic agent to reflect on the work of the writer agent."
   ]
  },
  {
   "cell_type": "code",
   "execution_count": 6,
   "id": "c7fcd1c7-51ec-4915-8e97-bac03565c4c7",
   "metadata": {
    "height": 163
   },
   "outputs": [],
   "source": [
    "critic = autogen.AssistantAgent(\n",
    "    name=\"Critic\",\n",
    "    is_termination_msg=lambda x: x.get(\"content\", \"\").find(\"TERMINATE\") >= 0,\n",
    "    llm_config=llm_config,\n",
    "    system_message=\"You are a critic. You review the work of \"\n",
    "                \"the writer and provide constructive \"\n",
    "                \"feedback to help improve the quality of the content.\",\n",
    ")"
   ]
  },
  {
   "cell_type": "code",
   "execution_count": 7,
   "id": "899d5fdb-6081-470b-b287-8cf8b8142d0d",
   "metadata": {
    "height": 114
   },
   "outputs": [
    {
     "name": "stdout",
     "output_type": "stream",
     "text": [
      "\u001b[33mCritic\u001b[0m (to Writer):\n",
      "\n",
      "\n",
      "        Write a concise but engaging blogpost about\n",
      "       DeepLearning.AI. Make sure the blogpost is\n",
      "       within 100 words.\n",
      "       \n",
      "\n",
      "--------------------------------------------------------------------------------\n",
      "\u001b[33mWriter\u001b[0m (to Critic):\n",
      "\n",
      "Title: \"Unleashing the Power of Deep Learning with DeepLearning.AI\"\n",
      "\n",
      "Blogpost:\n",
      "Discover the path to mastering deep learning with DeepLearning.AI, a leading online platform founded by AI expert Andrew Ng. Whether you're a beginner or an experienced professional, DeepLearning.AI offers top-tier courses to elevate your skills in artificial intelligence and deep learning. From neural networks to natural language processing, the platform provides comprehensive learning opportunities to guide you through the complexities of AI technology. Join a global community of learners and enhance your expertise with practical knowledge and hands-on experience. Embark on your journey to unlock the full potential of deep learning with DeepLearning.AI.\n",
      "\n",
      "--------------------------------------------------------------------------------\n",
      "\u001b[33mCritic\u001b[0m (to Writer):\n",
      "\n",
      "Overall, the blogpost provides a clear overview of DeepLearning.AI and effectively conveys the platform's offerings and benefits. The language is engaging and concise, which is suitable for a brief blogpost. However, you could enhance the content by including specific examples of courses or projects offered by DeepLearning.AI to give readers a better idea of the platform's depth and diversity. Additionally, consider mentioning any unique features or advantages that set DeepLearning.AI apart from other online learning platforms to make the blogpost more informative and compelling.\n",
      "\n",
      "--------------------------------------------------------------------------------\n",
      "\u001b[33mWriter\u001b[0m (to Critic):\n",
      "\n",
      "Title: \"Unleashing Your AI Potential with DeepLearning.AI\"\n",
      "\n",
      "Blogpost:\n",
      "Embark on an exciting journey to master deep learning with DeepLearning.AI, founded by AI guru Andrew Ng. Dive into courses on neural networks, NLP, and more, tailored for every skill level. What sets DeepLearning.AI apart? It's the hands-on projects and real-world applications that truly elevate your learning experience. With a global community to support you, there's no limit to where your AI skills can take you. Ready to unlock the power of AI? Join DeepLearning.AI and watch your potential soar.\n",
      "\n",
      "--------------------------------------------------------------------------------\n"
     ]
    }
   ],
   "source": [
    "res = critic.initiate_chat(\n",
    "    recipient=writer,\n",
    "    message=task,\n",
    "    max_turns=2,\n",
    "    summary_method=\"last_msg\"\n",
    ")"
   ]
  },
  {
   "cell_type": "markdown",
   "id": "e7b76449",
   "metadata": {},
   "source": [
    "## Nested chat"
   ]
  },
  {
   "cell_type": "code",
   "execution_count": 8,
   "id": "401ecf92-63e9-40ff-aeed-1c404352e4ab",
   "metadata": {
    "height": 214
   },
   "outputs": [],
   "source": [
    "SEO_reviewer = autogen.AssistantAgent(\n",
    "    name=\"SEO Reviewer\",\n",
    "    llm_config=llm_config,\n",
    "    system_message=\"You are an SEO reviewer, known for \"\n",
    "        \"your ability to optimize content for search engines, \"\n",
    "        \"ensuring that it ranks well and attracts organic traffic. \" \n",
    "        \"Make sure your suggestion is concise (within 3 bullet points), \"\n",
    "        \"concrete and to the point. \"\n",
    "        \"Begin the review by stating your role.\",\n",
    ")\n"
   ]
  },
  {
   "cell_type": "code",
   "execution_count": 9,
   "id": "f85acb81-7ab9-4c84-b8bb-6fbae3dce848",
   "metadata": {
    "height": 197
   },
   "outputs": [],
   "source": [
    "legal_reviewer = autogen.AssistantAgent(\n",
    "    name=\"Legal Reviewer\",\n",
    "    llm_config=llm_config,\n",
    "    system_message=\"You are a legal reviewer, known for \"\n",
    "        \"your ability to ensure that content is legally compliant \"\n",
    "        \"and free from any potential legal issues. \"\n",
    "        \"Make sure your suggestion is concise (within 3 bullet points), \"\n",
    "        \"concrete and to the point. \"\n",
    "        \"Begin the review by stating your role.\",\n",
    ")"
   ]
  },
  {
   "cell_type": "code",
   "execution_count": 10,
   "id": "d46a177a-8088-4956-8d2b-3e916b8ca5e9",
   "metadata": {
    "height": 197
   },
   "outputs": [],
   "source": [
    "ethics_reviewer = autogen.AssistantAgent(\n",
    "    name=\"Ethics Reviewer\",\n",
    "    llm_config=llm_config,\n",
    "    system_message=\"You are an ethics reviewer, known for \"\n",
    "        \"your ability to ensure that content is ethically sound \"\n",
    "        \"and free from any potential ethical issues. \" \n",
    "        \"Make sure your suggestion is concise (within 3 bullet points), \"\n",
    "        \"concrete and to the point. \"\n",
    "        \"Begin the review by stating your role. \",\n",
    ")"
   ]
  },
  {
   "cell_type": "code",
   "execution_count": 11,
   "id": "a7b2ad6f-8ba6-436a-9459-14ffbe8a32d3",
   "metadata": {
    "height": 129
   },
   "outputs": [],
   "source": [
    "meta_reviewer = autogen.AssistantAgent(\n",
    "    name=\"Meta Reviewer\",\n",
    "    llm_config=llm_config,\n",
    "    system_message=\"You are a meta reviewer, you aggragate and review \"\n",
    "    \"the work of other reviewers and give a final suggestion on the content.\",\n",
    ")"
   ]
  },
  {
   "cell_type": "markdown",
   "id": "913beca1",
   "metadata": {},
   "source": [
    "## Orchestrate the nested chats to solve the task"
   ]
  },
  {
   "cell_type": "code",
   "execution_count": 12,
   "id": "a11a70c7-19ca-4e5a-ad3d-f2b481fb5915",
   "metadata": {
    "height": 554
   },
   "outputs": [],
   "source": [
    "def reflection_message(recipient, messages, sender, config):\n",
    "    return f'''Review the following content. \n",
    "            \\n\\n {recipient.chat_messages_for_summary(sender)[-1]['content']}'''\n",
    "\n",
    "review_chats = [\n",
    "    {\n",
    "     \"recipient\": SEO_reviewer, \n",
    "     \"message\": reflection_message, \n",
    "     \"summary_method\": \"reflection_with_llm\",\n",
    "     \"summary_args\": {\"summary_prompt\" : \n",
    "        \"Return review into as JSON object only:\"\n",
    "        \"{'Reviewer': '', 'Review': ''}. Here Reviewer should be your role\",},\n",
    "     \"max_turns\": 1},\n",
    "    {\n",
    "    \"recipient\": legal_reviewer, \"message\": reflection_message, \n",
    "     \"summary_method\": \"reflection_with_llm\",\n",
    "     \"summary_args\": {\"summary_prompt\" : \n",
    "        \"Return review into as JSON object only:\"\n",
    "        \"{'Reviewer': '', 'Review': ''}.\",},\n",
    "     \"max_turns\": 1},\n",
    "    {\"recipient\": ethics_reviewer, \"message\": reflection_message, \n",
    "     \"summary_method\": \"reflection_with_llm\",\n",
    "     \"summary_args\": {\"summary_prompt\" : \n",
    "        \"Return review into as JSON object only:\"\n",
    "        \"{'reviewer': '', 'review': ''}\",},\n",
    "     \"max_turns\": 1},\n",
    "     {\"recipient\": meta_reviewer, \n",
    "      \"message\": \"Aggregrate feedback from all reviewers and give final suggestions on the writing.\", \n",
    "     \"max_turns\": 1},\n",
    "]\n"
   ]
  },
  {
   "cell_type": "code",
   "execution_count": 15,
   "id": "b3a40b66-5061-460d-ad9d-c0dbcfbba2e9",
   "metadata": {
    "height": 80
   },
   "outputs": [],
   "source": [
    "critic.register_nested_chats(\n",
    "    review_chats,\n",
    "    trigger=writer,\n",
    ")"
   ]
  },
  {
   "cell_type": "markdown",
   "id": "43b8797d",
   "metadata": {},
   "source": [
    "**Note**: You might get a slightly different response than what's shown in the video. Feel free to try different task."
   ]
  },
  {
   "cell_type": "code",
   "execution_count": 16,
   "id": "3b8dcac3-1e72-43b7-9d5a-1be740f6efd5",
   "metadata": {
    "height": 114
   },
   "outputs": [
    {
     "name": "stdout",
     "output_type": "stream",
     "text": [
      "\u001b[33mCritic\u001b[0m (to Writer):\n",
      "\n",
      "\n",
      "        Write a concise but engaging blogpost about\n",
      "       DeepLearning.AI. Make sure the blogpost is\n",
      "       within 100 words.\n",
      "       \n",
      "\n",
      "--------------------------------------------------------------------------------\n",
      "\u001b[33mWriter\u001b[0m (to Critic):\n",
      "\n",
      "Title: \"Unleashing the Power of Deep Learning with DeepLearning.AI\"\n",
      "\n",
      "Blogpost:\n",
      "Discover the path to mastering deep learning with DeepLearning.AI, a leading online platform founded by AI expert Andrew Ng. Whether you're a beginner or an experienced professional, DeepLearning.AI offers top-tier courses to elevate your skills in artificial intelligence and deep learning. From neural networks to natural language processing, the platform provides comprehensive learning opportunities to guide you through the complexities of AI technology. Join a global community of learners and enhance your expertise with practical knowledge and hands-on experience. Embark on your journey to unlock the full potential of deep learning with DeepLearning.AI.\n",
      "\n",
      "--------------------------------------------------------------------------------\n",
      "\u001b[34m\n",
      "********************************************************************************\u001b[0m\n",
      "\u001b[34mStarting a new chat....\u001b[0m\n",
      "\u001b[34m\n",
      "********************************************************************************\u001b[0m\n",
      "\u001b[33mCritic\u001b[0m (to SEO Reviewer):\n",
      "\n",
      "Review the following content. \n",
      "            \n",
      "\n",
      " Title: \"Unleashing the Power of Deep Learning with DeepLearning.AI\"\n",
      "\n",
      "Blogpost:\n",
      "Discover the path to mastering deep learning with DeepLearning.AI, a leading online platform founded by AI expert Andrew Ng. Whether you're a beginner or an experienced professional, DeepLearning.AI offers top-tier courses to elevate your skills in artificial intelligence and deep learning. From neural networks to natural language processing, the platform provides comprehensive learning opportunities to guide you through the complexities of AI technology. Join a global community of learners and enhance your expertise with practical knowledge and hands-on experience. Embark on your journey to unlock the full potential of deep learning with DeepLearning.AI.\n",
      "\n",
      "--------------------------------------------------------------------------------\n",
      "\u001b[33mSEO Reviewer\u001b[0m (to Critic):\n",
      "\n",
      "As an SEO reviewer,\n",
      "\n",
      "- Include target keywords in title and content such as \"Deep Learning courses\" or \"AI online learning.\" This can improve visibility and relevance for search queries.\n",
      "- Add internal links to relevant pages within the website to improve site structure and increase user engagement.\n",
      "- Incorporate meta tags, like meta description, with relevant keywords to enhance click-through rates from search engine results pages.\n",
      "\n",
      "--------------------------------------------------------------------------------\n",
      "\u001b[34m\n",
      "********************************************************************************\u001b[0m\n",
      "\u001b[34mStarting a new chat....\u001b[0m\n",
      "\u001b[34m\n",
      "********************************************************************************\u001b[0m\n",
      "\u001b[33mCritic\u001b[0m (to Legal Reviewer):\n",
      "\n",
      "Review the following content. \n",
      "            \n",
      "\n",
      " Title: \"Unleashing the Power of Deep Learning with DeepLearning.AI\"\n",
      "\n",
      "Blogpost:\n",
      "Discover the path to mastering deep learning with DeepLearning.AI, a leading online platform founded by AI expert Andrew Ng. Whether you're a beginner or an experienced professional, DeepLearning.AI offers top-tier courses to elevate your skills in artificial intelligence and deep learning. From neural networks to natural language processing, the platform provides comprehensive learning opportunities to guide you through the complexities of AI technology. Join a global community of learners and enhance your expertise with practical knowledge and hands-on experience. Embark on your journey to unlock the full potential of deep learning with DeepLearning.AI.\n",
      "Context: \n",
      "{'Reviewer': 'SEO reviewer', 'Review': '- Include target keywords in title and content such as \"Deep Learning courses\" or \"AI online learning.\" This can improve visibility and relevance for search queries. - Add internal links to relevant pages within the website to improve site structure and increase user engagement. - Incorporate meta tags, like meta description, with relevant keywords to enhance click-through rates from search engine results pages.'}\n",
      "\n",
      "--------------------------------------------------------------------------------\n",
      "\u001b[33mLegal Reviewer\u001b[0m (to Critic):\n",
      "\n",
      "As a Legal Reviewer:\n",
      "\n",
      "- Ensure that the use of \"DeepLearning.AI\" complies with any intellectual property rights, such as trademarks or copyrights, associated with the brand.\n",
      "- Check for any false advertising claims or misleading statements regarding the courses offered by DeepLearning.AI.\n",
      "- Verify that the use of terms like \"top-tier courses\" and \"elevate your skills\" does not misrepresent the quality or outcomes of the courses provided by DeepLearning.AI.\n",
      "\n",
      "--------------------------------------------------------------------------------\n",
      "\u001b[34m\n",
      "********************************************************************************\u001b[0m\n",
      "\u001b[34mStarting a new chat....\u001b[0m\n",
      "\u001b[34m\n",
      "********************************************************************************\u001b[0m\n",
      "\u001b[33mCritic\u001b[0m (to Ethics Reviewer):\n",
      "\n",
      "Review the following content. \n",
      "            \n",
      "\n",
      " Title: \"Unleashing the Power of Deep Learning with DeepLearning.AI\"\n",
      "\n",
      "Blogpost:\n",
      "Discover the path to mastering deep learning with DeepLearning.AI, a leading online platform founded by AI expert Andrew Ng. Whether you're a beginner or an experienced professional, DeepLearning.AI offers top-tier courses to elevate your skills in artificial intelligence and deep learning. From neural networks to natural language processing, the platform provides comprehensive learning opportunities to guide you through the complexities of AI technology. Join a global community of learners and enhance your expertise with practical knowledge and hands-on experience. Embark on your journey to unlock the full potential of deep learning with DeepLearning.AI.\n",
      "Context: \n",
      "{'Reviewer': 'SEO reviewer', 'Review': '- Include target keywords in title and content such as \"Deep Learning courses\" or \"AI online learning.\" This can improve visibility and relevance for search queries. - Add internal links to relevant pages within the website to improve site structure and increase user engagement. - Incorporate meta tags, like meta description, with relevant keywords to enhance click-through rates from search engine results pages.'}\n",
      "{'Reviewer': 'Legal Reviewer', 'Review': '- Ensure that the use of \"DeepLearning.AI\" complies with any intellectual property rights, such as trademarks or copyrights, associated with the brand. - Check for any false advertising claims or misleading statements regarding the courses offered by DeepLearning.AI. - Verify that the use of terms like \"top-tier courses\" and \"elevate your skills\" does not misrepresent the quality or outcomes of the courses provided by DeepLearning.AI.'}\n",
      "\n",
      "--------------------------------------------------------------------------------\n",
      "\u001b[33mEthics Reviewer\u001b[0m (to Critic):\n",
      "\n",
      "As an ethics reviewer:\n",
      "\n",
      "- Ensure that all claims made about DeepLearning.AI and its courses are accurate and supported by evidence to avoid misleading potential learners.\n",
      "- Avoid overpromising the outcomes of the courses and maintain transparency about the skills and knowledge participants can expect to gain.\n",
      "- Disclose any potential conflicts of interest or affiliations with DeepLearning.AI that may bias the content or review.\n",
      "\n",
      "--------------------------------------------------------------------------------\n",
      "\u001b[34m\n",
      "********************************************************************************\u001b[0m\n",
      "\u001b[34mStarting a new chat....\u001b[0m\n",
      "\u001b[34m\n",
      "********************************************************************************\u001b[0m\n",
      "\u001b[33mCritic\u001b[0m (to Meta Reviewer):\n",
      "\n",
      "Aggregrate feedback from all reviewers and give final suggestions on the writing.\n",
      "Context: \n",
      "{'Reviewer': 'SEO reviewer', 'Review': '- Include target keywords in title and content such as \"Deep Learning courses\" or \"AI online learning.\" This can improve visibility and relevance for search queries. - Add internal links to relevant pages within the website to improve site structure and increase user engagement. - Incorporate meta tags, like meta description, with relevant keywords to enhance click-through rates from search engine results pages.'}\n",
      "{'Reviewer': 'Legal Reviewer', 'Review': '- Ensure that the use of \"DeepLearning.AI\" complies with any intellectual property rights, such as trademarks or copyrights, associated with the brand. - Check for any false advertising claims or misleading statements regarding the courses offered by DeepLearning.AI. - Verify that the use of terms like \"top-tier courses\" and \"elevate your skills\" does not misrepresent the quality or outcomes of the courses provided by DeepLearning.AI.'}\n",
      "{'reviewer': 'Ethics reviewer', 'review': '- Ensure that all claims made about DeepLearning.AI and its courses are accurate and supported by evidence to avoid misleading potential learners. - Avoid overpromising the outcomes of the courses and maintain transparency about the skills and knowledge participants can expect to gain. - Disclose any potential conflicts of interest or affiliations with DeepLearning.AI that may bias the content or review.'}\n"
     ]
    },
    {
     "name": "stdout",
     "output_type": "stream",
     "text": [
      "\n",
      "--------------------------------------------------------------------------------\n",
      "\u001b[33mMeta Reviewer\u001b[0m (to Critic):\n",
      "\n",
      "After aggregating the feedback from the SEO reviewer, Legal reviewer, and Ethics reviewer, here are some final suggestions on the writing regarding DeepLearning.AI:\n",
      "\n",
      "1. **SEO Aspect**:\n",
      "   - The content should include target keywords like \"Deep Learning courses\" or \"AI online learning\" in the title and throughout the content for better search engine visibility. \n",
      "   - Incorporating internal links to relevant pages within the website can improve site structure and user engagement.\n",
      "   - Utilize meta tags, such as meta descriptions, with relevant keywords to enhance click-through rates from search engine results pages.\n",
      "\n",
      "2. **Legal Considerations**:\n",
      "   - Ensure that the use of the term \"DeepLearning.AI\" complies with intellectual property rights associated with the brand, such as trademarks or copyrights.\n",
      "   - Check for any false advertising claims or misleading statements about the courses provided by DeepLearning.AI.\n",
      "   - Avoid misrepresenting the quality or outcomes of the courses with terms like \"top-tier courses\" or \"elevate your skills.\"\n",
      "\n",
      "3. **Ethical Guidelines**:\n",
      "   - Verify that all claims about DeepLearning.AI and its courses are accurate and supported by evidence to prevent misleading potential learners.\n",
      "   - Maintain transparency and avoid overpromising outcomes of the courses.\n",
      "   - Disclose any potential conflicts of interest or affiliations with DeepLearning.AI that may bias the content or review.\n",
      "\n",
      "**Final Suggestion**:\n",
      "Incorporate the suggestions from all reviewers to enhance the visibility, credibility, and transparency of the content. By integrating SEO best practices, addressing legal considerations, and upholding ethical guidelines, the writing about DeepLearning.AI can become more informative and trustworthy for readers. Remember to balance optimization with accuracy and integrity in the content.\n",
      "\n",
      "--------------------------------------------------------------------------------\n",
      "\u001b[33mCritic\u001b[0m (to Writer):\n",
      "\n",
      "After aggregating the feedback from the SEO reviewer, Legal reviewer, and Ethics reviewer, here are some final suggestions on the writing regarding DeepLearning.AI:\n",
      "\n",
      "1. **SEO Aspect**:\n",
      "   - The content should include target keywords like \"Deep Learning courses\" or \"AI online learning\" in the title and throughout the content for better search engine visibility. \n",
      "   - Incorporating internal links to relevant pages within the website can improve site structure and user engagement.\n",
      "   - Utilize meta tags, such as meta descriptions, with relevant keywords to enhance click-through rates from search engine results pages.\n",
      "\n",
      "2. **Legal Considerations**:\n",
      "   - Ensure that the use of the term \"DeepLearning.AI\" complies with intellectual property rights associated with the brand, such as trademarks or copyrights.\n",
      "   - Check for any false advertising claims or misleading statements about the courses provided by DeepLearning.AI.\n",
      "   - Avoid misrepresenting the quality or outcomes of the courses with terms like \"top-tier courses\" or \"elevate your skills.\"\n",
      "\n",
      "3. **Ethical Guidelines**:\n",
      "   - Verify that all claims about DeepLearning.AI and its courses are accurate and supported by evidence to prevent misleading potential learners.\n",
      "   - Maintain transparency and avoid overpromising outcomes of the courses.\n",
      "   - Disclose any potential conflicts of interest or affiliations with DeepLearning.AI that may bias the content or review.\n",
      "\n",
      "**Final Suggestion**:\n",
      "Incorporate the suggestions from all reviewers to enhance the visibility, credibility, and transparency of the content. By integrating SEO best practices, addressing legal considerations, and upholding ethical guidelines, the writing about DeepLearning.AI can become more informative and trustworthy for readers. Remember to balance optimization with accuracy and integrity in the content.\n",
      "\n",
      "--------------------------------------------------------------------------------\n",
      "\u001b[33mWriter\u001b[0m (to Critic):\n",
      "\n",
      "Title: \"Master Deep Learning: Your Guide to DeepLearning.AI Courses\"\n",
      "\n",
      "Blogpost:\n",
      "Dive into the world of AI education with DeepLearning.AI, a premier online platform curated by renowned AI expert Andrew Ng. Explore cutting-edge Deep Learning courses tailored for all skill levels, from novice to expert. Elevate your expertise in neural networks and natural language processing through hands-on learning. Join a global community of learners and unlock the full potential of AI technology. Embrace a transformative learning journey with DeepLearning.AI today!\n",
      "\n",
      "---\n",
      "Adjusted the title and content to better suit SEO guidelines, legal considerations, and ethical guidelines. Maintained a concise and engaging tone while addressing feedback from reviewers.\n",
      "\n",
      "--------------------------------------------------------------------------------\n"
     ]
    }
   ],
   "source": [
    "res = critic.initiate_chat(\n",
    "    recipient=writer,\n",
    "    message=task,\n",
    "    max_turns=2,\n",
    "    summary_method=\"last_msg\"\n",
    ")"
   ]
  },
  {
   "cell_type": "markdown",
   "id": "c5c833b0",
   "metadata": {},
   "source": [
    "## Get the summary"
   ]
  },
  {
   "cell_type": "code",
   "execution_count": 17,
   "id": "68ef82ed-f102-4964-b7be-60e2f258a39b",
   "metadata": {
    "height": 29
   },
   "outputs": [
    {
     "name": "stdout",
     "output_type": "stream",
     "text": [
      "Title: \"Master Deep Learning: Your Guide to DeepLearning.AI Courses\"\n",
      "\n",
      "Blogpost:\n",
      "Dive into the world of AI education with DeepLearning.AI, a premier online platform curated by renowned AI expert Andrew Ng. Explore cutting-edge Deep Learning courses tailored for all skill levels, from novice to expert. Elevate your expertise in neural networks and natural language processing through hands-on learning. Join a global community of learners and unlock the full potential of AI technology. Embrace a transformative learning journey with DeepLearning.AI today!\n",
      "\n",
      "---\n",
      "Adjusted the title and content to better suit SEO guidelines, legal considerations, and ethical guidelines. Maintained a concise and engaging tone while addressing feedback from reviewers.\n"
     ]
    }
   ],
   "source": [
    "print(res.summary)"
   ]
  }
 ],
 "metadata": {
  "kernelspec": {
   "display_name": "Python 3 (ipykernel)",
   "language": "python",
   "name": "python3"
  },
  "language_info": {
   "codemirror_mode": {
    "name": "ipython",
    "version": 3
   },
   "file_extension": ".py",
   "mimetype": "text/x-python",
   "name": "python",
   "nbconvert_exporter": "python",
   "pygments_lexer": "ipython3",
   "version": "3.11.9"
  }
 },
 "nbformat": 4,
 "nbformat_minor": 5
}
